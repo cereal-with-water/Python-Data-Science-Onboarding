{
  "cells": [
    {
      "cell_type": "markdown",
      "metadata": {},
      "source": [
        "# ✅ Checkpoint 01 — NumPy Basics\n\n",
        "**Goal**\n",
        "- Create/reshape arrays, vectorized ops, boolean masking\n\n",
        "**Rules**\n",
        "- Fill only where marked as `# TODO`\n",
        "- Do not change test cells (🔒)\n",
        "- Run all cells before submitting\n\n",
        "**References**\n",
        "- NumPy docs: https://numpy.org/doc/\n"
      ]
    },
    {
      "cell_type": "code",
      "execution_count": null,
      "metadata": {},
      "outputs": [],
      "source": [
        "# 🔧 Setup\n",
        "import numpy as np\n",
        "import pandas as pd\n",
        "from utils.grader import check_array, check_value\n\n",
        "np.random.seed(42)\n"
      ]
    },
    {
      "cell_type": "code",
      "execution_count": null,
      "metadata": {},
      "outputs": [],
      "source": [
        "# Q1) Create a 3x3 array with values 0..8 (row-major)\n",
        "# TODO: assign to variable 'A'\n",
        "A = ...  # TODO\n\n",
        "# 🔒 Test\n",
        "check_array(A, shape=(3,3), dtype=np.integer)\n",
        "check_value(A.sum(), 36)\n"
      ]
    },
    {
      "cell_type": "code",
      "execution_count": null,
      "metadata": {},
      "outputs": [],
      "source": [
        "# Q2) From A, create a boolean mask selecting even numbers\n",
        "# TODO: assign to variable 'mask_even'\n",
        "mask_even = ...  # TODO\n\n",
        "# 🔒 Test\n",
        "check_array(mask_even, shape=(3,3), dtype=bool)\n",
        "check_value(int(mask_even.sum()), 5)  # number of evens in 0..8\n"
      ]
    },
    {
      "cell_type": "code",
      "execution_count": null,
      "metadata": {},
      "outputs": [],
      "source": [
        "# Q3) Reshape, stack, and compute row-wise means → 'means'\n",
        "# TODO: assign to variable 'means' (1D array length 3)\n",
        "B = ...  # TODO\n",
        "means = ...  # TODO\n\n",
        "# 🔒 Test\n",
        "check_array(means, shape=(3,))\n"
      ]
    },
    {
      "cell_type": "code",
      "execution_count": null,
      "metadata": {},
      "outputs": [],
      "source": [
        "# Q4) Broadcasting: A (3x3) and v (1x3) → 'C'\n",
        "v = np.array([10, 0, -10])\n",
        "C = ...  # TODO\n\n",
        "# 🔒 Test\n",
        "check_array(C, shape=(3,3), dtype=np.integer)\n",
        "check_value(int(C[0,0] + C[2,2]), (A[0,0]+10) + (A[2,2]-10))\n"
      ]
    },
    {
      "cell_type": "code",
      "execution_count": null,
      "metadata": {},
      "outputs": [],
      "source": [
        "# Q5) Fancy indexing / boolean masking\n",
        "# Extract odd numbers ≥ 3 from A → 'odd_ge3'\n",
        "odd_ge3 = ...  # TODO\n\n",
        "# 🔒 Test\n",
        "check_array(\n",
        "    odd_ge3,\n",
        "    shape=(np.count_nonzero((A>=3)&(A%2==1)),),\n",
        "    dtype=np.integer,\n",
        "    allow_int_any=True\n",
        ")\n",
        "check_value(int(odd_ge3.min()), 3)\n"
      ]
    },
    {
      "cell_type": "markdown",
      "metadata": {},
      "source": [
        "### ✅ Submit\n",
        "- All tests above passed\n",
        "- Save notebook and commit to your repo\n"
      ]
    }
  ],
  "metadata": {
    "kernelspec": {
      "display_name": "Python 3",
      "language": "python",
      "name": "python3"
    },
    "language_info": {
      "name": "python",
      "version": "3.11.8",
      "mimetype": "text/x-python",
      "codemirror_mode": {
        "name": "ipython",
        "version": 3
      },
      "pygments_lexer": "ipython3",
      "nbconvert_exporter": "python",
      "file_extension": ".py"
    }
  },
  "nbformat": 4,
  "nbformat_minor": 5
}