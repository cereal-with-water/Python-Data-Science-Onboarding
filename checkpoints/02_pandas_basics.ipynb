{
 "cells": [
  {
   "cell_type": "markdown",
   "metadata": {},
   "source": [
    "# ✅ Checkpoint 02 — pandas Basics\n",
    "\n",
    "**Goal**\n",
    "- Load/create DataFrames, filter & sort, add computed columns, groupby/aggregate, and merge.\n",
    "\n",
    "**Rules**\n",
    "- Fill only where marked as `# TODO`\n",
    "- Do not change test cells (🔒)\n",
    "- Run all cells before submitting\n",
    "\n",
    "**References**\n",
    "- pandas docs: https://pandas.pydata.org/docs/\n"
   ]
  },
  {
   "cell_type": "code",
   "execution_count": null,
   "metadata": {},
   "outputs": [],
   "source": [
    "# 🔧 Setup\n",
    "import numpy as np\n",
    "import pandas as pd\n",
    "from utils.grader import (\n",
    "    check_array, check_value, check_dataframe_columns,\n",
    "    check_series_index_values, check_len\n",
    ")\n",
    "np.random.seed(42)\n"
   ]
  },
  {
   "cell_type": "code",
   "execution_count": null,
   "metadata": {},
   "outputs": [],
   "source": [
    "# Small in-memory data we'll use throughout\n",
    "data = {\n",
    "    'city': ['Ann Arbor','Kalamazoo','Detroit','Grand Rapids','Lansing'],\n",
    "    'temp_f': [68, 77, 59, 90, 82],\n",
    "    'rain': [False, True, False, False, True],\n",
    "    'date': pd.to_datetime(['2025-08-20','2025-08-20','2025-08-20','2025-08-20','2025-08-20'])\n",
    "}\n"
   ]
  },
  {
   "cell_type": "code",
   "execution_count": null,
   "metadata": {},
   "outputs": [],
   "source": [
    "# Q1) Create a DataFrame 'df' from the dict 'data' with columns in order: city, temp_f, rain, date\n",
    "# TODO: assign to variable 'df'\n",
    "df = ...  # TODO\n",
    "\n",
    "# 🔒 Test\n",
    "check_dataframe_columns(df, ['city','temp_f','rain','date'])\n",
    "check_value(df.iloc[0]['city'], 'Ann Arbor')\n",
    "check_len(df, 5)\n"
   ]
  },
  {
   "cell_type": "code",
   "execution_count": null,
   "metadata": {},
   "outputs": [],
   "source": [
    "# Q2) Filter rows where rain == False, sort by temp_f descending, reset index → 'df_dry'\n",
    "# TODO: assign to variable 'df_dry'\n",
    "df_dry = ...  # TODO\n",
    "\n",
    "# 🔒 Test\n",
    "check_len(df_dry, 3)\n",
    "check_value(df_dry.iloc[0]['temp_f'], 90)\n",
    "check_dataframe_columns(df_dry, ['city','temp_f','rain','date'])\n"
   ]
  },
  {
   "cell_type": "code",
   "execution_count": null,
   "metadata": {},
   "outputs": [],
   "source": [
    "# Q3) Add a Celsius column: temp_c = round((temp_f - 32) * 5/9, 1)\n",
    "# TODO: create 'temp_c' column on df\n",
    "...\n",
    "\n",
    "# 🔒 Test\n",
    "check_value(float(df.loc[df['city']=='Grand Rapids','temp_c'].iloc[0]), round((90-32)*5/9,1))\n",
    "check_dataframe_columns(df, ['city','temp_f','rain','date','temp_c'])\n"
   ]
  },
  {
   "cell_type": "code",
   "execution_count": null,
   "metadata": {},
   "outputs": [],
   "source": [
    "# Q4) Group by 'rain' and compute mean temp_c → 'avg_temp_by_rain' (Series indexed by rain boolean)\n",
    "# TODO: assign to variable 'avg_temp_by_rain'\n",
    "avg_temp_by_rain = ...  # TODO\n",
    "\n",
    "# 🔒 Test (values checked approximately)\n",
    "check_series_index_values(avg_temp_by_rain, {False, True})\n",
    "mean_false = avg_temp_by_rain.loc[False]\n",
    "mean_true = avg_temp_by_rain.loc[True]\n",
    "check_value(round(float(mean_false),1), round(((68-32)*5/9 + (59-32)*5/9 + (90-32)*5/9)/3, 1))\n",
    "check_value(round(float(mean_true),1), round(((77-32)*5/9 + (82-32)*5/9)/2, 1))\n"
   ]
  },
  {
   "cell_type": "code",
   "execution_count": null,
   "metadata": {},
   "outputs": [],
   "source": [
    "# Q5) Merge: create a DataFrame 'city_region' with columns city and region, then left-merge onto df → 'df_merged'\n",
    "city_region = pd.DataFrame({\n",
    "    'city': ['Ann Arbor','Kalamazoo','Detroit','Grand Rapids','Lansing'],\n",
    "    'region': ['SE','SW','SE','W','C']\n",
    "})\n",
    "# TODO: left-merge on 'city' to produce df_merged\n",
    "df_merged = ...  # TODO\n",
    "\n",
    "# 🔒 Test\n",
    "check_dataframe_columns(df_merged, ['city','temp_f','rain','date','temp_c','region'])\n",
    "check_value(set(df_merged['region']), {'SE','SW','W','C'})\n"
   ]
  },
  {
   "cell_type": "markdown",
   "metadata": {},
   "source": [
    "### ✅ Submit\n",
    "- All tests above passed\n",
    "- Save notebook and commit to your repo\n"
   ]
  }
 ],
 "metadata": {
  "kernelspec": {
   "display_name": "Python 3",
   "language": "python",
   "name": "python3"
  },
  "language_info": {
   "name": "python",
   "version": "3.11",
   "mimetype": "text/x-python",
   "codemirror_mode": {
    "name": "ipython",
    "version": 3
   },
   "pygments_lexer": "ipython3",
   "nbconvert_exporter": "python",
   "file_extension": ".py"
  }
 },
 "nbformat": 4,
 "nbformat_minor": 5
}
