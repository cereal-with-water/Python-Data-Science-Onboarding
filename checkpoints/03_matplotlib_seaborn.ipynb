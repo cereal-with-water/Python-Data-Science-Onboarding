{
 "cells": [
  {
   "cell_type": "markdown",
   "metadata": {},
   "source": [
    "# ✅ Checkpoint 03 — Matplotlib & Seaborn\n",
    "\n",
    "**Goal**\n",
    "- Create basic plots with Matplotlib & Seaborn: scatter, histogram, boxplot, and aggregated barplot.\n",
    "- Set titles/labels properly and export figures as files.\n",
    "\n",
    "**Rules**\n",
    "- Fill only where marked as `# TODO`\n",
    "- Do not change test cells (🔒)\n",
    "- Run all cells in order before submitting\n",
    "\n",
    "**References**\n",
    "- Matplotlib docs: https://matplotlib.org/stable/\n",
    "- Seaborn docs: https://seaborn.pydata.org/\n"
   ]
  },
  {
   "cell_type": "code",
   "execution_count": null,
   "metadata": {},
   "outputs": [],
   "source": [
    "# 🔧 Setup\n",
    "import os\n",
    "import numpy as np\n",
    "import pandas as pd\n",
    "import matplotlib.pyplot as plt\n",
    "import seaborn as sns\n",
    "from utils.grader import (\n",
    "    check_value, check_len, check_file_exists,\n",
    "    check_axes_instance, check_xlabel, check_ylabel, check_title_contains,\n",
    "    check_num_lines, check_num_collections, check_num_patches\n",
    ")\n",
    "np.random.seed(42)\n",
    "\n",
    "# ensure output dir\nn",
    "os.makedirs('outputs', exist_ok=True)\n"
   ]
  },
  {
   "cell_type": "code",
   "execution_count": null,
   "metadata": {},
   "outputs": [],
   "source": [
    "# small synthetic dataset (deterministic)\n",
    "n = 120\n",
    "days = np.random.choice(['Thur','Fri','Sat','Sun'], size=n, p=[0.25,0.2,0.3,0.25])\n",
    "sex = np.random.choice(['Male','Female'], size=n)\n",
    "smoker = np.random.choice(['Yes','No'], size=n, p=[0.3,0.7])\n",
    "total_bill = np.round(np.random.normal(loc=24, scale=8, size=n).clip(5, 80), 2)\n",
    "tip = np.round((total_bill * np.random.uniform(0.08, 0.22, size=n)), 2)\n",
    "\n",
    "df = pd.DataFrame({\n",
    "    'day': days,\n",
    "    'sex': sex,\n",
    "    'smoker': smoker,\n",
    "    'total_bill': total_bill,\n",
    "    'tip': tip\n",
    "})\n",
    "df.head()\n"
   ]
  },
  {
   "cell_type": "markdown",
   "metadata": {},
   "source": [
    "## Q1) Matplotlib Scatter\n",
    "Create a scatter plot of `total_bill` (x) vs `tip` (y) using **Matplotlib**.\n",
    "- Put the **x label**: `Total Bill ($)`\n",
    "- Put the **y label**: `Tip ($)`\n",
    "- Title should contain the word **\"Scatter\"**\n",
    "- Save the fig object in a variable named **`fig1`**, axes in **`ax1`**\n"
   ]
  },
  {
   "cell_type": "code",
   "execution_count": null,
   "metadata": {},
   "outputs": [],
   "source": [
    "# TODO: create fig1, ax1, draw scatter, set labels and title\n",
    "fig1, ax1 = ...  # TODO\n",
    "\n",
    "# 🔒 Test\n",
    "check_axes_instance(ax1)\n",
    "check_xlabel(ax1, 'Total Bill ($)')\n",
    "check_ylabel(ax1, 'Tip ($)')\n",
    "check_title_contains(ax1, 'Scatter')\n",
    "check_num_collections(ax1, 1)  # one scatter collection\n"
   ]
  },
  {
   "cell_type": "markdown",
   "metadata": {},
   "source": [
    "## Q2) Seaborn Boxplot\n",
    "Using **Seaborn**, create a **boxplot** of `tip` by `day` (x=`day`, y=`tip`).\n",
    "- Store the Axes in a variable named **`ax2`**\n",
    "- x label must be `Day`, y label must be `Tip ($)`\n",
    "- Title should contain the word **\"Box\"**\n"
   ]
  },
  {
   "cell_type": "code",
   "execution_count": null,
   "metadata": {},
   "outputs": [],
   "source": [
    "# TODO: create ax2 using seaborn.boxplot\n",
    "ax2 = ...  # TODO\n",
    "...\n",
    "\n",
    "# 🔒 Test\n",
    "check_axes_instance(ax2)\n",
    "check_xlabel(ax2, 'Day')\n",
    "check_ylabel(ax2, 'Tip ($)')\n",
    "check_title_contains(ax2, 'Box')\n"
   ]
  },
  {
   "cell_type": "markdown",
   "metadata": {},
   "source": [
    "## Q3) Matplotlib Histogram\n",
    "Create a **histogram** of `total_bill` with **10 bins** using Matplotlib.\n",
    "- Save fig as **`fig3`**, axes as **`ax3`**\n",
    "- Title should contain **\"Histogram\"**\n",
    "- x label `Total Bill ($)`\n"
   ]
  },
  {
   "cell_type": "code",
   "execution_count": null,
   "metadata": {},
   "outputs": [],
   "source": [
    "# TODO: histogram with 10 bins\n",
    "fig3, ax3 = ...  # TODO\n",
    "...\n",
    "\n",
    "# 🔒 Test\n",
    "check_axes_instance(ax3)\n",
    "check_title_contains(ax3, 'Histogram')\n",
    "check_xlabel(ax3, 'Total Bill ($)')\n",
    "check_num_patches(ax3, 10)\n"
   ]
  },
  {
   "cell_type": "markdown",
   "metadata": {},
   "source": [
    "## Q4) Seaborn Aggregated Barplot\n",
    "Add a computed column `tip_pct = tip / total_bill * 100`. Then plot the **mean tip % by day** using Seaborn (barplot).\n",
    "- Store the Axes in **`ax4`**\n",
    "- There should be one bar per unique day in `df['day']`\n",
    "- y label should contain the `%` sign\n"
   ]
  },
  {
   "cell_type": "code",
   "execution_count": null,
   "metadata": {},
   "outputs": [],
   "source": [
    "# TODO: add tip_pct column and make barplot of mean tip_pct by day\n",
    "...\n",
    "ax4 = ...  # TODO\n",
    "...\n",
    "\n",
    "# 🔒 Test\n",
    "check_axes_instance(ax4)\n",
    "unique_days = sorted(df['day'].unique().tolist())\n",
    "check_len(ax4.patches, len(unique_days))\n",
    "check_ylabel(ax4, '%')  # contains percent sign\n"
   ]
  },
  {
   "cell_type": "markdown",
   "metadata": {},
   "source": [
    "## Q5) Save Figure to File\n",
    "Save the Q1 scatter figure to `outputs/fig_scatter.png` using `fig1.savefig(...)`.\n",
    "- The path must be exactly `outputs/fig_scatter.png`\n"
   ]
  },
  {
   "cell_type": "code",
   "execution_count": null,
   "metadata": {},
   "outputs": [],
   "source": [
    "# TODO: save fig1 to outputs/fig_scatter.png\n",
    "...\n",
    "\n",
    "# 🔒 Test\n",
    "check_file_exists('outputs/fig_scatter.png')\n"
   ]
  },
  {
   "cell_type": "markdown",
   "metadata": {},
   "source": [
    "### ✅ Submit\n",
    "- All tests above passed\n",
    "- Save notebook and commit to your repo\n"
   ]
  }
 ],
 "metadata": {
  "kernelspec": {
   "display_name": "Python 3",
   "language": "python",
   "name": "python3"
  },
  "language_info": {
   "name": "python",
   "version": "3.11",
   "mimetype": "text/x-python",
   "codemirror_mode": {
    "name": "ipython",
    "version": 3
   },
   "pygments_lexer": "ipython3",
   "nbconvert_exporter": "python",
   "file_extension": ".py"
  }
 },
 "nbformat": 4,
 "nbformat_minor": 5
}
