{
 "cells": [
  {
   "cell_type": "markdown",
   "metadata": {},
   "source": [
    "# ✅ Checkpoint 04 — Plotly Intro\n",
    "\n",
    "**Goal**\n",
    "- Build interactive charts with Plotly (scatter, histogram, bar) using both Express and Graph Objects.\n",
    "- Set titles/axis labels, count traces, and export figures to HTML.\n",
    "\n",
    "**Rules**\n",
    "- Fill only where marked as `# TODO`.\n",
    "- Do not change test cells (🔒).\n",
    "- Run all cells in order before submitting.\n",
    "\n",
    "**References**\n",
    "- Plotly docs: https://plotly.com/python/\n"
   ]
  },
  {
   "cell_type": "code",
   "execution_count": null,
   "metadata": {},
   "outputs": [],
   "source": [
    "# 🔧 Setup\n",
    "import os\n",
    "import numpy as np\n",
    "import pandas as pd\n",
    "import plotly.express as px\n",
    "import plotly.graph_objects as go\n",
    "from utils.grader import (\n",
    "    check_file_exists,\n",
    "    check_figure, check_trace_count,\n",
    "    check_axis_title, check_layout_title_contains,\n",
    "    check_bar_count, check_trace_modes\n",
    ")\n",
    "np.random.seed(42)\n",
    "os.makedirs('outputs', exist_ok=True)\n"
   ]
  },
  {
   "cell_type": "code",
   "execution_count": null,
   "metadata": {},
   "outputs": [],
   "source": [
    "# Small deterministic dataset (similar to 'tips')\n",
    "n = 120\n",
    "days = np.random.choice(['Thur','Fri','Sat','Sun'], size=n, p=[0.25,0.2,0.3,0.25])\n",
    "sex = np.random.choice(['Male','Female'], size=n)\n",
    "smoker = np.random.choice(['Yes','No'], size=n, p=[0.3,0.7])\n",
    "total_bill = np.round(np.random.normal(loc=24, scale=8, size=n).clip(5, 80), 2)\n",
    "tip = np.round((total_bill * np.random.uniform(0.08, 0.22, size=n)), 2)\n",
    "df = pd.DataFrame({\n",
    "    'day': days,\n",
    "    'sex': sex,\n",
    "    'smoker': smoker,\n",
    "    'total_bill': total_bill,\n",
    "    'tip': tip\n",
    "})\n",
    "df.head()\n"
   ]
  },
  {
   "cell_type": "markdown",
   "metadata": {},
   "source": [
    "## Q1) Plotly Express — Scatter\n",
    "Create a scatter plot of `total_bill` (x) vs `tip` (y) using **Plotly Express**.\n",
    "- Color by `day` (optional but encouraged).\n",
    "- Title should contain **\"Scatter\"**.\n",
    "- x-axis title: `Total Bill ($)`; y-axis title: `Tip ($)`.\n",
    "- Store the figure in **`fig1`**.\n"
   ]
  },
  {
   "cell_type": "code",
   "execution_count": null,
   "metadata": {},
   "outputs": [],
   "source": [
    "# TODO: create fig1 with px.scatter\n",
    "fig1 = ...  # TODO\n",
    "# Example (for reference):\n",
    "# fig1 = px.scatter(df, x='total_bill', y='tip', color='day', title='Scatter: Tip vs Total Bill')\n",
    "# fig1.update_layout(xaxis_title='Total Bill ($)', yaxis_title='Tip ($)')\n",
    "\n",
    "# 🔒 Test\n",
    "check_figure(fig1)\n",
    "check_trace_count(fig1, expected_min=1)  # at least 1 trace (color may create >1)\n",
    "check_layout_title_contains(fig1, 'Scatter')\n",
    "check_axis_title(fig1, axis='x', expected='Total Bill ($)')\n",
    "check_axis_title(fig1, axis='y', expected='Tip ($)')\n"
   ]
  },
  {
   "cell_type": "markdown",
   "metadata": {},
   "source": [
    "## Q2) Plotly Express — Histogram\n",
    "Create a histogram of `total_bill` with **10 bins**.\n",
    "- Title should contain **\"Histogram\"**.\n",
    "- x-axis title: `Total Bill ($)`.\n",
    "- Store the figure in **`fig2`**.\n"
   ]
  },
  {
   "cell_type": "code",
   "execution_count": null,
   "metadata": {},
   "outputs": [],
   "source": [
    "# TODO: create fig2 with px.histogram and nbins=10\n",
    "fig2 = ...  # TODO\n",
    "# Example:\n",
    "# fig2 = px.histogram(df, x='total_bill', nbins=10, title='Histogram: Total Bill')\n",
    "# fig2.update_layout(xaxis_title='Total Bill ($)')\n",
    "\n",
    "# 🔒 Test\n",
    "check_figure(fig2)\n",
    "check_trace_count(fig2, expected_min=1)\n",
    "check_layout_title_contains(fig2, 'Histogram')\n",
    "check_axis_title(fig2, axis='x', expected='Total Bill ($)')\n"
   ]
  },
  {
   "cell_type": "markdown",
   "metadata": {},
   "source": [
    "## Q3) Plotly Express — Bar (mean tip%)\n",
    "Add a computed column `tip_pct = tip / total_bill * 100`. Then plot the **mean tip % by day** as a bar chart.\n",
    "- One bar per unique `day`.\n",
    "- y-axis title should contain `%`.\n",
    "- Store the figure in **`fig3`**.\n"
   ]
  },
  {
   "cell_type": "code",
   "execution_count": null,
   "metadata": {},
   "outputs": [],
   "source": [
    "# TODO: compute tip_pct and create fig3\n",
    "...\n",
    "fig3 = ...  # TODO\n",
    "\n",
    "# 🔒 Test\n",
    "check_figure(fig3)\n",
    "unique_days = sorted(df['day'].unique().tolist())\n",
    "check_bar_count(fig3, expected=len(unique_days))\n",
    "check_axis_title(fig3, axis='y', expected='%')  # contains percent sign\n"
   ]
  },
  {
   "cell_type": "markdown",
   "metadata": {},
   "source": [
    "## Q4) Graph Objects — Line (running mean of tip)\n",
    "Using **plotly.graph_objects**, build a line chart of the running mean of `tip` over row index.\n",
    "- Use `go.Figure` with a single `go.Scatter` trace in `'lines'` mode.\n",
    "- Title should contain **\"Running Mean\"**.\n",
    "- Store the figure in **`fig4`**.\n"
   ]
  },
  {
   "cell_type": "code",
   "execution_count": null,
   "metadata": {},
   "outputs": [],
   "source": [
    "# TODO: create running mean and fig4 with go.Figure\n",
    "...\n",
    "fig4 = ...  # TODO\n",
    "\n",
    "# 🔒 Test\n",
    "check_figure(fig4)\n",
    "check_trace_count(fig4, expected_min=1, expected_max=1)\n",
    "check_trace_modes(fig4, must_include='lines')\n",
    "check_layout_title_contains(fig4, 'Running Mean')\n"
   ]
  },
  {
   "cell_type": "markdown",
   "metadata": {},
   "source": [
    "## Q5) Export to HTML\n",
    "Save the Q1 scatter figure to **`outputs/fig_scatter.html`** using `fig1.write_html(...)`.\n"
   ]
  },
  {
   "cell_type": "code",
   "execution_count": null,
   "metadata": {},
   "outputs": [],
   "source": [
    "# TODO: export fig1 to outputs/fig_scatter.html\n",
    "...\n",
    "\n",
    "# 🔒 Test\n",
    "check_file_exists('outputs/fig_scatter.html')\n"
   ]
  },
  {
   "cell_type": "markdown",
   "metadata": {},
   "source": [
    "### ✅ Submit\n",
    "- All tests above passed\n",
    "- Save notebook and commit to your repo\n"
   ]
  }
 ],
 "metadata": {
  "kernelspec": {
   "display_name": "Python 3",
   "language": "python",
   "name": "python3"
  },
  "language_info": {
   "name": "python",
   "version": "3.11",
   "mimetype": "text/x-python",
   "codemirror_mode": {
    "name": "ipython",
    "version": 3
   },
   "pygments_lexer": "ipython3",
   "nbconvert_exporter": "python",
   "file_extension": ".py"
  }
 },
 "nbformat": 4,
 "nbformat_minor": 5
}
